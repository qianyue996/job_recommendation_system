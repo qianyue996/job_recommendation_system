{
 "cells": [
  {
   "cell_type": "code",
   "execution_count": 5,
   "id": "0384bbe4-20f4-4c32-bbed-8983b4ff230f",
   "metadata": {},
   "outputs": [],
   "source": [
    "import regex as re\n",
    "import jieba"
   ]
  },
  {
   "cell_type": "code",
   "execution_count": 6,
   "id": "12e01ddc-b0ec-4f0d-b677-cd43a962fbdd",
   "metadata": {},
   "outputs": [],
   "source": [
    "sequences = \"岗位职责：1、主要负责儿童及休闲游戏的开发；2、负责Android产品的移植及发布；3、与策划和美术进行协作，完成设计内容；4、负责游戏后端部分功能开发；任职要求：1、热爱游戏，对游戏开发抱有极大的热情，关注游戏体验；2、计算机相关专业本科毕业；3、熟练掌握Java等开发语言，会C++的优先；4、有好奇心及良好的自我学习能力，具有沟通和协作能力，可以清晰地表达自己的想法；  加分项： 1.会cocos2d-x； 2.会Python及Javascript等脚本语言； 3.有做好的游戏小Demo；\""
   ]
  },
  {
   "cell_type": "code",
   "execution_count": 7,
   "id": "2da54022-fbb7-488c-b101-7e4e2ecbd012",
   "metadata": {},
   "outputs": [],
   "source": [
    "#全角转半角\n",
    "def full_to_half(sentence):      #输入为一个句子\n",
    "    change_sentence=\"\"\n",
    "    for word in sentence:\n",
    "        inside_code=ord(word)\n",
    "        if inside_code==12288:    #全角空格直接转换\n",
    "            inside_code=32\n",
    "        elif inside_code>=65281 and inside_code<=65374:  #全角字符（除空格）根据关系转化\n",
    "            inside_code-=65248\n",
    "        change_sentence+=chr(inside_code)\n",
    "    return change_sentence"
   ]
  },
  {
   "cell_type": "code",
   "execution_count": 8,
   "id": "437d0f07-be48-4a00-b113-01defd833042",
   "metadata": {},
   "outputs": [
    {
     "name": "stdout",
     "output_type": "stream",
     "text": [
      "岗位职责:1、主要负责儿童及休闲游戏的开发;2、负责Android产品的移植及发布;3、与策划和美术进行协作,完成设计内容;4、负责游戏后端部分功能开发;任职要求:1、热爱游戏,对游戏开发抱有极大的热情,关注游戏体验;2、计算机相关专业本科毕业;3、熟练掌握Java等开发语言,会C++的优先;4、有好奇心及良好的自我学习能力,具有沟通和协作能力,可以清晰地表达自己的想法;  加分项: 1.会cocos2d-x; 2.会Python及Javascript等脚本语言; 3.有做好的游戏小Demo;\n"
     ]
    }
   ],
   "source": [
    "a = full_to_half(sequences)\n",
    "print(a)"
   ]
  },
  {
   "cell_type": "code",
   "execution_count": 9,
   "id": "0c6c87d7-69e2-4b0e-84d8-42a74f1212ed",
   "metadata": {},
   "outputs": [],
   "source": [
    "#大写数字转换为小写数字\n",
    "def big2small_num(sentence):\n",
    "    numlist = {\"一\":\"1\",\"二\":\"2\",\"三\":\"3\",\"四\":\"4\",\"五\":\"5\",\"六\":\"6\",\"七\":\"7\",\"八\":\"8\",\"九\":\"9\",\"零\":\"0\"}\n",
    "    for item in numlist:\n",
    "        sentence = sentence.replace(item, numlist[item])\n",
    "    return sentence"
   ]
  },
  {
   "cell_type": "code",
   "execution_count": 10,
   "id": "7cc9fdb6-b40e-4cf4-939d-830e2e2b1c9f",
   "metadata": {},
   "outputs": [
    {
     "name": "stdout",
     "output_type": "stream",
     "text": [
      "岗位职责:1、主要负责儿童及休闲游戏的开发;2、负责Android产品的移植及发布;3、与策划和美术进行协作,完成设计内容;4、负责游戏后端部分功能开发;任职要求:1、热爱游戏,对游戏开发抱有极大的热情,关注游戏体验;2、计算机相关专业本科毕业;3、熟练掌握Java等开发语言,会C++的优先;4、有好奇心及良好的自我学习能力,具有沟通和协作能力,可以清晰地表达自己的想法;  加分项: 1.会cocos2d-x; 2.会Python及Javascript等脚本语言; 3.有做好的游戏小Demo;\n"
     ]
    }
   ],
   "source": [
    "b = big2small_num(a)\n",
    "print(b)"
   ]
  },
  {
   "cell_type": "code",
   "execution_count": 51,
   "id": "8f7aa76f-6b9d-44ec-a9d3-a66ea9a32996",
   "metadata": {},
   "outputs": [],
   "source": [
    "#大写字母转为小写字母\n",
    "def upper2lower(sentence):\n",
    "    new_sentence=sentence.lower()\n",
    "    return new_sentence"
   ]
  },
  {
   "cell_type": "code",
   "execution_count": 52,
   "id": "f130de03-9923-4493-bfd3-5e1322171b3c",
   "metadata": {},
   "outputs": [
    {
     "name": "stdout",
     "output_type": "stream",
     "text": [
      "岗位职责:1、主要负责儿童及休闲游戏的开发;2、负责android产品的移植及发布;3、与策划和美术进行协作,完成设计内容;4、负责游戏后端部分功能开发;任职要求:1、热爱游戏,对游戏开发抱有极大的热情,关注游戏体验;2、计算机相关专业本科毕业;3、熟练掌握java等开发语言,会c++的优先;4、有好奇心及良好的自我学习能力,具有沟通和协作能力,可以清晰地表达自己的想法;  加分项: 1.会cocos2d-x; 2.会python及javascript等脚本语言; 3.有做好的游戏小demo;\n"
     ]
    }
   ],
   "source": [
    "c = upper2lower(b)\n",
    "print(c)"
   ]
  },
  {
   "cell_type": "code",
   "execution_count": 70,
   "id": "311996b0-b808-4689-93d0-a1161b7721cb",
   "metadata": {},
   "outputs": [],
   "source": [
    "#去除文本中的表情字符（只保留中英文和数字）\n",
    "def clear_character(sentence):\n",
    "    pattern1= '\\[.*?\\]'     \n",
    "    pattern2 = re.compile('[^\\u4e00-\\u9fa5^a-z^A-Z^0-9]')\n",
    "    pattern3 = '[0-9]'\n",
    "    line1=re.sub(pattern1,'',sentence)\n",
    "    line2=re.sub(pattern2,'',line1)\n",
    "    line3=re.sub(pattern3,'',line2)\n",
    "    new_sentence=''.join(line3.split()) #去除空白\n",
    "    return new_sentence"
   ]
  },
  {
   "cell_type": "code",
   "execution_count": 71,
   "id": "72039ae2-179a-44ef-be39-b6c6bc02609b",
   "metadata": {},
   "outputs": [
    {
     "name": "stdout",
     "output_type": "stream",
     "text": [
      "岗位职责主要负责儿童及休闲游戏的开发负责android产品的移植及发布与策划和美术进行协作完成设计内容负责游戏后端部分功能开发任职要求热爱游戏对游戏开发抱有极大的热情关注游戏体验计算机相关专业本科毕业熟练掌握java等开发语言会c的优先有好奇心及良好的自我学习能力具有沟通和协作能力可以清晰地表达自己的想法加分项会cocosdx会python及javascript等脚本语言有做好的游戏小demo\n"
     ]
    }
   ],
   "source": [
    "d = clear_character(c)\n",
    "print(d)"
   ]
  },
  {
   "cell_type": "code",
   "execution_count": 78,
   "id": "510ca1df-aafb-4161-93ce-4e20fc99ac2f",
   "metadata": {},
   "outputs": [
    {
     "name": "stdout",
     "output_type": "stream",
     "text": [
      "岗位 岗位职责 职责 主要 负责 儿童 及 休闲 休闲游 休闲游戏 闲游 游戏 的 开发 负责 an and nd dr ro oi id 产品 的 移植 及 发布 与 策划 和 美术 进行 协作 完成 设计 内容 负责 游戏 后端 部分 功能 能开 开发 任职 要求 热爱 游戏 对 游戏 开发 抱有 极大 的 热情 热情关注 关注 游戏 体验 计算 计算机 计算机相关 算机 相关 专业 专业本科 本科 本科毕业 毕业 熟练 熟练掌握 掌握 av va j 等 开发 语言 会 c 的 优先 有 好奇 好奇心 及 良好 好的 自我 学习 能力 具有 沟通 和 协作 能力 可以 清晰 地表 表达 自己 的 想法 加分 分项 会 co oc co os sd dx 会 py yt th ho on 及 av va as sc cr ri ip pt j 等 脚本 脚本语言 语言 有 做好 好的 游戏 小 de em mo\n"
     ]
    }
   ],
   "source": [
    "jieba.load_userdict('Stopwords/stopwords_full.txt')\n",
    "f = jieba.cut(d, cut_all=True)\n",
    "f = ' '.join(f)\n",
    "print(f)"
   ]
  },
  {
   "cell_type": "code",
   "execution_count": null,
   "id": "e8296877-ddb9-4984-98a9-beca1a27d864",
   "metadata": {},
   "outputs": [],
   "source": []
  },
  {
   "cell_type": "code",
   "execution_count": 58,
   "id": "a4c2f9d2-0456-40cf-804a-6587118594e1",
   "metadata": {},
   "outputs": [],
   "source": [
    "#去除字母数字表情和其它字符\n",
    "def clear_character(sentence):\n",
    "    # pattern1='[a-zA-Z0-9]'英文大小写数字\n",
    "    pattern1 = '[0-9]'\n",
    "    pattern2 = '\\[.*?\\]'\n",
    "    pattern3 = re.compile(u'[^\\s1234567890:：' + '\\u4e00-\\u9fa5]+')\n",
    "    pattern4='[’!\"#$%&\\'()*+,-./:;<=>?@[\\\\]^_`{|}~]+'\n",
    "    line1=re.sub(pattern1,'',sentence)   #去除英文字母和数字\n",
    "    line2=re.sub(pattern2,'',line1)   #去除表情\n",
    "    line3=re.sub(pattern3,'',line2)   #去除其它字符\n",
    "    line4=re.sub(pattern4, '', line3) #去掉残留的冒号及其它符号\n",
    "    new_sentence=''.join(line4.split()) #去除空白\n",
    "    return new_sentence"
   ]
  },
  {
   "cell_type": "code",
   "execution_count": 59,
   "id": "1ceb79b4-97f6-4431-95f0-6a9ea8af691e",
   "metadata": {},
   "outputs": [
    {
     "name": "stdout",
     "output_type": "stream",
     "text": [
      "岗位职责主要负责儿童及休闲游戏的开发负责产品的移植及发布与策划和美术进行协作完成设计内容负责游戏后端部分功能开发任职要求热爱游戏对游戏开发抱有极大的热情关注游戏体验计算机相关专业本科毕业熟练掌握等开发语言会的优先有好奇心及良好的自我学习能力具有沟通和协作能力可以清晰地表达自己的想法加分项会会及等脚本语言有做好的游戏小\n"
     ]
    }
   ],
   "source": [
    "d = clear_character(c)\n",
    "print(d)"
   ]
  },
  {
   "cell_type": "code",
   "execution_count": null,
   "id": "0dbad06b-c406-4dcc-a5bc-83e121982ee0",
   "metadata": {},
   "outputs": [],
   "source": [
    "import re\n",
    "def clean_text(text):\n",
    "    \"\"\"\n",
    "    Clean text\n",
    "    :param text: the string of text\n",
    "    :return: text string after cleaning\n",
    "    \"\"\"\n",
    "    # acronym\n",
    "    text = re.sub(r\"can\\'t\", \"can not\", text)\n",
    "    text = re.sub(r\"cannot\", \"can not \", text)\n",
    "    text = re.sub(r\"what\\'s\", \"what is\", text)\n",
    "    text = re.sub(r\"What\\'s\", \"what is\", text)\n",
    "    text = re.sub(r\"\\'ve \", \" have \", text)\n",
    "    text = re.sub(r\"n\\'t\", \" not \", text)\n",
    "    text = re.sub(r\"i\\'m\", \"i am \", text)\n",
    "    text = re.sub(r\"I\\'m\", \"i am \", text)\n",
    "    text = re.sub(r\"\\'re\", \" are \", text)\n",
    "    text = re.sub(r\"\\'d\", \" would \", text)\n",
    "    text = re.sub(r\"\\'ll\", \" will \", text)\n",
    "    text = re.sub(r\" e mail \", \" email \", text)\n",
    "    text = re.sub(r\" e \\- mail \", \" email \", text)\n",
    "    text = re.sub(r\" e\\-mail \", \" email \", text)\n",
    "\n",
    "    # spelling correction\n",
    "    text = re.sub(r\"ph\\.d\", \"phd\", text)\n",
    "    text = re.sub(r\"PhD\", \"phd\", text)\n",
    "    text = re.sub(r\" e g \", \" eg \", text)\n",
    "    text = re.sub(r\" fb \", \" facebook \", text)\n",
    "    text = re.sub(r\"facebooks\", \" facebook \", text)\n",
    "    text = re.sub(r\"facebooking\", \" facebook \", text)\n",
    "    text = re.sub(r\" usa \", \" america \", text)\n",
    "    text = re.sub(r\" us \", \" america \", text)\n",
    "    text = re.sub(r\" u s \", \" america \", text)\n",
    "    text = re.sub(r\" U\\.S\\. \", \" america \", text)\n",
    "    text = re.sub(r\" US \", \" america \", text)\n",
    "    text = re.sub(r\" American \", \" america \", text)\n",
    "    text = re.sub(r\" America \", \" america \", text)\n",
    "    text = re.sub(r\" mbp \", \" macbook-pro \", text)\n",
    "    text = re.sub(r\" mac \", \" macbook \", text)\n",
    "    text = re.sub(r\"macbook pro\", \"macbook-pro\", text)\n",
    "    text = re.sub(r\"macbook-pros\", \"macbook-pro\", text)\n",
    "    text = re.sub(r\" 1 \", \" one \", text)\n",
    "    text = re.sub(r\" 2 \", \" two \", text)\n",
    "    text = re.sub(r\" 3 \", \" three \", text)\n",
    "    text = re.sub(r\" 4 \", \" four \", text)\n",
    "    text = re.sub(r\" 5 \", \" five \", text)\n",
    "    text = re.sub(r\" 6 \", \" six \", text)\n",
    "    text = re.sub(r\" 7 \", \" seven \", text)\n",
    "    text = re.sub(r\" 8 \", \" eight \", text)\n",
    "    text = re.sub(r\" 9 \", \" nine \", text)\n",
    "    text = re.sub(r\"googling\", \" google \", text)\n",
    "    text = re.sub(r\"googled\", \" google \", text)\n",
    "    text = re.sub(r\"googleable\", \" google \", text)\n",
    "    text = re.sub(r\"googles\", \" google \", text)\n",
    "    text = re.sub(r\"dollars\", \" dollar \", text)\n",
    "\n",
    "    # punctuation\n",
    "    text = re.sub(r\"\\+\", \" + \", text)\n",
    "    text = re.sub(r\"'\", \" \", text)\n",
    "    text = re.sub(r\"-\", \" - \", text)\n",
    "    text = re.sub(r\"/\", \" / \", text)\n",
    "    text = re.sub(r\"\\\\\", \" \\ \", text)\n",
    "    text = re.sub(r\"=\", \" = \", text)\n",
    "    text = re.sub(r\"\\^\", \" ^ \", text)\n",
    "    text = re.sub(r\":\", \" : \", text)\n",
    "    text = re.sub(r\"\\.\", \" . \", text)\n",
    "    text = re.sub(r\",\", \" , \", text)\n",
    "    text = re.sub(r\"\\?\", \" ? \", text)\n",
    "    text = re.sub(r\"!\", \" ! \", text)\n",
    "    text = re.sub(r\"\\\"\", \" \\\" \", text)\n",
    "    text = re.sub(r\"&\", \" & \", text)\n",
    "    text = re.sub(r\"\\|\", \" | \", text)\n",
    "    text = re.sub(r\";\", \" ; \", text)\n",
    "    text = re.sub(r\"\\(\", \" ( \", text)\n",
    "    text = re.sub(r\"\\)\", \" ( \", text)\n",
    "\n",
    "    # symbol replacement\n",
    "    text = re.sub(r\"&\", \" and \", text)\n",
    "    text = re.sub(r\"\\|\", \" or \", text)\n",
    "    text = re.sub(r\"=\", \" equal \", text)\n",
    "    text = re.sub(r\"\\+\", \" plus \", text)\n",
    "    text = re.sub(r\"\\$\", \" dollar \", text)\n",
    "\n",
    "    # remove extra space\n",
    "    text = ' '.join(text.split())\n",
    "\n",
    "    return text"
   ]
  },
  {
   "cell_type": "code",
   "execution_count": 1,
   "id": "67e62fbf-f171-494a-b98b-34a8cbfea4a3",
   "metadata": {},
   "outputs": [],
   "source": [
    "def clean_english_text_from_nltk(text):\n",
    "    \"\"\"\n",
    "    使用nltk的停用词对英文数据进行清洗\n",
    "    :param text: \n",
    "    :return: \n",
    "    \"\"\"\n",
    "    text = BeautifulSoup(text,'html.parser').get_text() #去掉html标签\n",
    "    text = re.sub(r'[^a-zA-Z]',' ',text) #除去标点符号\n",
    "    words = text.lower().split() #转为小写并切分\n",
    "    stopwords = nltk.corpus.stopwords.words('english') #使用nltk的停用词\n",
    "    wordList =[word for word in words if word not in stopwords]\n",
    "    return ' '.join(wordList)"
   ]
  },
  {
   "cell_type": "code",
   "execution_count": 4,
   "id": "3c279e7f-1a21-450e-b568-caf65f8a3291",
   "metadata": {},
   "outputs": [
    {
     "ename": "NameError",
     "evalue": "name 'BeautifulSoup' is not defined",
     "output_type": "error",
     "traceback": [
      "\u001b[1;31m---------------------------------------------------------------------------\u001b[0m",
      "\u001b[1;31mNameError\u001b[0m                                 Traceback (most recent call last)",
      "Cell \u001b[1;32mIn[4], line 1\u001b[0m\n\u001b[1;32m----> 1\u001b[0m text\u001b[38;5;241m=\u001b[39m\u001b[43mclean_english_text_from_nltk\u001b[49m\u001b[43m(\u001b[49m\u001b[43msequences\u001b[49m\u001b[43m)\u001b[49m\n\u001b[0;32m      2\u001b[0m \u001b[38;5;28mprint\u001b[39m(text)\n",
      "Cell \u001b[1;32mIn[1], line 7\u001b[0m, in \u001b[0;36mclean_english_text_from_nltk\u001b[1;34m(text)\u001b[0m\n\u001b[0;32m      1\u001b[0m \u001b[38;5;28;01mdef\u001b[39;00m \u001b[38;5;21mclean_english_text_from_nltk\u001b[39m(text):\n\u001b[0;32m      2\u001b[0m \u001b[38;5;250m    \u001b[39m\u001b[38;5;124;03m\"\"\"\u001b[39;00m\n\u001b[0;32m      3\u001b[0m \u001b[38;5;124;03m    使用nltk的停用词对英文数据进行清洗\u001b[39;00m\n\u001b[0;32m      4\u001b[0m \u001b[38;5;124;03m    :param text: \u001b[39;00m\n\u001b[0;32m      5\u001b[0m \u001b[38;5;124;03m    :return: \u001b[39;00m\n\u001b[0;32m      6\u001b[0m \u001b[38;5;124;03m    \"\"\"\u001b[39;00m\n\u001b[1;32m----> 7\u001b[0m     text \u001b[38;5;241m=\u001b[39m \u001b[43mBeautifulSoup\u001b[49m(text,\u001b[38;5;124m'\u001b[39m\u001b[38;5;124mhtml.parser\u001b[39m\u001b[38;5;124m'\u001b[39m)\u001b[38;5;241m.\u001b[39mget_text() \u001b[38;5;66;03m#去掉html标签\u001b[39;00m\n\u001b[0;32m      8\u001b[0m     text \u001b[38;5;241m=\u001b[39m re\u001b[38;5;241m.\u001b[39msub(\u001b[38;5;124mr\u001b[39m\u001b[38;5;124m'\u001b[39m\u001b[38;5;124m[^a-zA-Z]\u001b[39m\u001b[38;5;124m'\u001b[39m,\u001b[38;5;124m'\u001b[39m\u001b[38;5;124m \u001b[39m\u001b[38;5;124m'\u001b[39m,text) \u001b[38;5;66;03m#除去标点符号\u001b[39;00m\n\u001b[0;32m      9\u001b[0m     words \u001b[38;5;241m=\u001b[39m text\u001b[38;5;241m.\u001b[39mlower()\u001b[38;5;241m.\u001b[39msplit() \u001b[38;5;66;03m#转为小写并切分\u001b[39;00m\n",
      "\u001b[1;31mNameError\u001b[0m: name 'BeautifulSoup' is not defined"
     ]
    }
   ],
   "source": [
    "text=clean_english_text_from_nltk(sequences)\n",
    "print(text)"
   ]
  },
  {
   "cell_type": "code",
   "execution_count": null,
   "id": "ca4ccd95-d30b-4eda-abd5-83981f1ee837",
   "metadata": {},
   "outputs": [],
   "source": []
  }
 ],
 "metadata": {
  "kernelspec": {
   "display_name": "Python 3 (ipykernel)",
   "language": "python",
   "name": "python3"
  },
  "language_info": {
   "codemirror_mode": {
    "name": "ipython",
    "version": 3
   },
   "file_extension": ".py",
   "mimetype": "text/x-python",
   "name": "python",
   "nbconvert_exporter": "python",
   "pygments_lexer": "ipython3",
   "version": "3.9.13"
  }
 },
 "nbformat": 4,
 "nbformat_minor": 5
}
