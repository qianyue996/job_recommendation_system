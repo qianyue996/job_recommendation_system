{
 "cells": [
  {
   "cell_type": "code",
   "execution_count": 26,
   "id": "0384bbe4-20f4-4c32-bbed-8983b4ff230f",
   "metadata": {},
   "outputs": [],
   "source": [
    "import regex as re\n",
    "import jieba"
   ]
  },
  {
   "cell_type": "code",
   "execution_count": 14,
   "id": "12e01ddc-b0ec-4f0d-b677-cd43a962fbdd",
   "metadata": {},
   "outputs": [],
   "source": [
    "sequences = \"岗位职责：1、主要负责儿童及休闲游戏的开发；2、负责Android产品的移植及发布；3、与策划和美术进行协作，完成设计内容；4、负责游戏后端部分功能开发；任职要求：1、热爱游戏，对游戏开发抱有极大的热情，关注游戏体验；2、计算机相关专业本科毕业；3、熟练掌握Java等开发语言，会C++的优先；4、有好奇心及良好的自我学习能力，具有沟通和协作能力，可以清晰地表达自己的想法；  加分项： 1.会cocos2d-x； 2.会Python及Javascript等脚本语言； 3.有做好的游戏小Demo；\""
   ]
  },
  {
   "cell_type": "code",
   "execution_count": 15,
   "id": "2da54022-fbb7-488c-b101-7e4e2ecbd012",
   "metadata": {},
   "outputs": [],
   "source": [
    "#全角转半角\n",
    "def full_to_half(sentence):      #输入为一个句子\n",
    "    change_sentence=\"\"\n",
    "    for word in sentence:\n",
    "        inside_code=ord(word)\n",
    "        if inside_code==12288:    #全角空格直接转换\n",
    "            inside_code=32\n",
    "        elif inside_code>=65281 and inside_code<=65374:  #全角字符（除空格）根据关系转化\n",
    "            inside_code-=65248\n",
    "        change_sentence+=chr(inside_code)\n",
    "    return change_sentence"
   ]
  },
  {
   "cell_type": "code",
   "execution_count": 16,
   "id": "437d0f07-be48-4a00-b113-01defd833042",
   "metadata": {},
   "outputs": [
    {
     "name": "stdout",
     "output_type": "stream",
     "text": [
      "岗位职责:1、主要负责儿童及休闲游戏的开发;2、负责Android产品的移植及发布;3、与策划和美术进行协作,完成设计内容;4、负责游戏后端部分功能开发;任职要求:1、热爱游戏,对游戏开发抱有极大的热情,关注游戏体验;2、计算机相关专业本科毕业;3、熟练掌握Java等开发语言,会C++的优先;4、有好奇心及良好的自我学习能力,具有沟通和协作能力,可以清晰地表达自己的想法;  加分项: 1.会cocos2d-x; 2.会Python及Javascript等脚本语言; 3.有做好的游戏小Demo;\n"
     ]
    }
   ],
   "source": [
    "a = full_to_half(sequences)\n",
    "print(a)"
   ]
  },
  {
   "cell_type": "code",
   "execution_count": 17,
   "id": "0c6c87d7-69e2-4b0e-84d8-42a74f1212ed",
   "metadata": {},
   "outputs": [],
   "source": [
    "#大写数字转换为小写数字\n",
    "def big2small_num(sentence):\n",
    "    numlist = {\"一\":\"1\",\"二\":\"2\",\"三\":\"3\",\"四\":\"4\",\"五\":\"5\",\"六\":\"6\",\"七\":\"7\",\"八\":\"8\",\"九\":\"9\",\"零\":\"0\"}\n",
    "    for item in numlist:\n",
    "        sentence = sentence.replace(item, numlist[item])\n",
    "    return sentence"
   ]
  },
  {
   "cell_type": "code",
   "execution_count": 18,
   "id": "7cc9fdb6-b40e-4cf4-939d-830e2e2b1c9f",
   "metadata": {},
   "outputs": [
    {
     "name": "stdout",
     "output_type": "stream",
     "text": [
      "岗位职责:1、主要负责儿童及休闲游戏的开发;2、负责Android产品的移植及发布;3、与策划和美术进行协作,完成设计内容;4、负责游戏后端部分功能开发;任职要求:1、热爱游戏,对游戏开发抱有极大的热情,关注游戏体验;2、计算机相关专业本科毕业;3、熟练掌握Java等开发语言,会C++的优先;4、有好奇心及良好的自我学习能力,具有沟通和协作能力,可以清晰地表达自己的想法;  加分项: 1.会cocos2d-x; 2.会Python及Javascript等脚本语言; 3.有做好的游戏小Demo;\n"
     ]
    }
   ],
   "source": [
    "b = big2small_num(a)\n",
    "print(b)"
   ]
  },
  {
   "cell_type": "code",
   "execution_count": 19,
   "id": "8f7aa76f-6b9d-44ec-a9d3-a66ea9a32996",
   "metadata": {},
   "outputs": [],
   "source": [
    "#大写字母转为小写字母\n",
    "def upper2lower(sentence):\n",
    "    new_sentence=sentence.lower()\n",
    "    return new_sentence"
   ]
  },
  {
   "cell_type": "code",
   "execution_count": 20,
   "id": "f130de03-9923-4493-bfd3-5e1322171b3c",
   "metadata": {},
   "outputs": [
    {
     "name": "stdout",
     "output_type": "stream",
     "text": [
      "岗位职责:1、主要负责儿童及休闲游戏的开发;2、负责android产品的移植及发布;3、与策划和美术进行协作,完成设计内容;4、负责游戏后端部分功能开发;任职要求:1、热爱游戏,对游戏开发抱有极大的热情,关注游戏体验;2、计算机相关专业本科毕业;3、熟练掌握java等开发语言,会c++的优先;4、有好奇心及良好的自我学习能力,具有沟通和协作能力,可以清晰地表达自己的想法;  加分项: 1.会cocos2d-x; 2.会python及javascript等脚本语言; 3.有做好的游戏小demo;\n"
     ]
    }
   ],
   "source": [
    "c = upper2lower(b)\n",
    "print(c)"
   ]
  },
  {
   "cell_type": "code",
   "execution_count": 21,
   "id": "311996b0-b808-4689-93d0-a1161b7721cb",
   "metadata": {},
   "outputs": [],
   "source": [
    "#去除文本中的表情字符（只保留中英文和数字）\n",
    "def clear_character(sentence):\n",
    "    pattern1= '\\[.*?\\]'     \n",
    "    pattern2 = re.compile('[^\\u4e00-\\u9fa5^a-z^A-Z^0-9]')   \n",
    "    line1=re.sub(pattern1,'',sentence)\n",
    "    line2=re.sub(pattern2,'',line1)   \n",
    "    new_sentence=''.join(line2.split()) #去除空白\n",
    "    return new_sentence"
   ]
  },
  {
   "cell_type": "code",
   "execution_count": 22,
   "id": "1ceb79b4-97f6-4431-95f0-6a9ea8af691e",
   "metadata": {},
   "outputs": [
    {
     "name": "stdout",
     "output_type": "stream",
     "text": [
      "岗位职责1主要负责儿童及休闲游戏的开发2负责android产品的移植及发布3与策划和美术进行协作完成设计内容4负责游戏后端部分功能开发任职要求1热爱游戏对游戏开发抱有极大的热情关注游戏体验2计算机相关专业本科毕业3熟练掌握java等开发语言会c的优先4有好奇心及良好的自我学习能力具有沟通和协作能力可以清晰地表达自己的想法加分项1会cocos2dx2会python及javascript等脚本语言3有做好的游戏小demo\n"
     ]
    }
   ],
   "source": [
    "d = clear_character(c)\n",
    "print(d)"
   ]
  },
  {
   "cell_type": "code",
   "execution_count": 23,
   "id": "a4c2f9d2-0456-40cf-804a-6587118594e1",
   "metadata": {},
   "outputs": [],
   "source": [
    "#去除字母数字表情和其它字符\n",
    "def clear_character(sentence):\n",
    "    pattern1='[a-zA-Z0-9]'\n",
    "    pattern2 = '\\[.*?\\]'\n",
    "    pattern3 = re.compile(u'[^\\s1234567890:：' + '\\u4e00-\\u9fa5]+')\n",
    "    pattern4='[’!\"#$%&\\'()*+,-./:;<=>?@[\\\\]^_`{|}~]+'\n",
    "    line1=re.sub(pattern1,'',sentence)   #去除英文字母和数字\n",
    "    line2=re.sub(pattern2,'',line1)   #去除表情\n",
    "    line3=re.sub(pattern3,'',line2)   #去除其它字符\n",
    "    line4=re.sub(pattern4, '', line3) #去掉残留的冒号及其它符号\n",
    "    new_sentence=''.join(line4.split()) #去除空白\n",
    "    return new_sentence"
   ]
  },
  {
   "cell_type": "code",
   "execution_count": 24,
   "id": "72039ae2-179a-44ef-be39-b6c6bc02609b",
   "metadata": {},
   "outputs": [
    {
     "name": "stdout",
     "output_type": "stream",
     "text": [
      "岗位职责主要负责儿童及休闲游戏的开发负责产品的移植及发布与策划和美术进行协作完成设计内容负责游戏后端部分功能开发任职要求热爱游戏对游戏开发抱有极大的热情关注游戏体验计算机相关专业本科毕业熟练掌握等开发语言会的优先有好奇心及良好的自我学习能力具有沟通和协作能力可以清晰地表达自己的想法加分项会会及等脚本语言有做好的游戏小\n"
     ]
    }
   ],
   "source": [
    "e = clear_character(d)\n",
    "print(e)"
   ]
  },
  {
   "cell_type": "code",
   "execution_count": 31,
   "id": "510ca1df-aafb-4161-93ce-4e20fc99ac2f",
   "metadata": {},
   "outputs": [
    {
     "name": "stdout",
     "output_type": "stream",
     "text": [
      "岗位职责 主要 负责 儿童 及 休闲游戏 的 开发 负责 产品 的 移植 及 发布 与 策划 和 美术 进行 协作 完成 设计 内容 负责 游戏 后 端 部分 功能 开发 任职 要求 热爱 游戏 对 游戏 开发 抱 有 极大 的 热情关注 游戏 体验 计算机相关 专业 本科毕业 熟练掌握 等 开发 语言 会 的 优先 有 好奇心 及 良好 的 自我 学习 能力 具有 沟通 和 协作 能力 可以 清晰 地 表达 自己 的 想法 加 分项 会会 及 等 脚本语言 有 做好 的 游戏 小\n"
     ]
    }
   ],
   "source": [
    "jieba.load_userdict('Stopwords/stopwords_full.txt')\n",
    "f = jieba.cut(e, cut_all=False)\n",
    "f = ' '.join(f)\n",
    "print(f)"
   ]
  },
  {
   "cell_type": "code",
   "execution_count": null,
   "id": "0dbad06b-c406-4dcc-a5bc-83e121982ee0",
   "metadata": {},
   "outputs": [],
   "source": []
  }
 ],
 "metadata": {
  "kernelspec": {
   "display_name": "Python 3 (ipykernel)",
   "language": "python",
   "name": "python3"
  },
  "language_info": {
   "codemirror_mode": {
    "name": "ipython",
    "version": 3
   },
   "file_extension": ".py",
   "mimetype": "text/x-python",
   "name": "python",
   "nbconvert_exporter": "python",
   "pygments_lexer": "ipython3",
   "version": "3.9.13"
  }
 },
 "nbformat": 4,
 "nbformat_minor": 5
}
